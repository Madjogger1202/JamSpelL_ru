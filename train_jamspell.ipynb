{
  "nbformat": 4,
  "nbformat_minor": 0,
  "metadata": {
    "colab": {
      "provenance": []
    },
    "kernelspec": {
      "name": "python3",
      "display_name": "Python 3"
    },
    "language_info": {
      "name": "python"
    }
  },
  "cells": [
    {
      "cell_type": "code",
      "execution_count": null,
      "metadata": {
        "colab": {
          "base_uri": "https://localhost:8080/"
        },
        "id": "MNlAr0chMoRo",
        "outputId": "7e7b6725-f6ca-4fa8-b3b2-33215706f039"
      },
      "outputs": [
        {
          "output_type": "stream",
          "name": "stdout",
          "text": [
            "fatal: destination path 'JamSpell' already exists and is not an empty directory.\n",
            "-- The C compiler identification is GNU 11.4.0\n",
            "-- The CXX compiler identification is GNU 11.4.0\n",
            "-- Detecting C compiler ABI info\n",
            "-- Detecting C compiler ABI info - done\n",
            "-- Check for working C compiler: /usr/bin/cc - skipped\n",
            "-- Detecting C compile features\n",
            "-- Detecting C compile features - done\n",
            "-- Detecting CXX compiler ABI info\n",
            "-- Detecting CXX compiler ABI info - done\n",
            "-- Check for working CXX compiler: /usr/bin/c++ - skipped\n",
            "-- Detecting CXX compile features\n",
            "-- Detecting CXX compile features - done\n",
            "-- Could NOT find GTest (missing: GTEST_LIBRARY GTEST_INCLUDE_DIR GTEST_MAIN_LIBRARY) \n",
            "-- Performing Test CMAKE_HAVE_LIBC_PTHREAD\n",
            "-- Performing Test CMAKE_HAVE_LIBC_PTHREAD - Success\n",
            "-- Found Threads: TRUE  \n",
            "-- Configuring done (1.1s)\n",
            "-- Generating done (0.0s)\n",
            "-- Build files have been written to: /content\n",
            "[  4%] \u001b[32mBuilding CXX object contrib/cityhash/CMakeFiles/cityhash.dir/city.cc.o\u001b[0m\n",
            "[  8%] \u001b[32m\u001b[1mLinking CXX static library libcityhash.a\u001b[0m\n",
            "[  8%] Built target cityhash\n",
            "[ 12%] \u001b[32mBuilding CXX object contrib/phf/CMakeFiles/phf.dir/phf.cc.o\u001b[0m\n",
            "[ 16%] \u001b[32m\u001b[1mLinking CXX static library libphf.a\u001b[0m\n",
            "[ 16%] Built target phf\n",
            "[ 20%] \u001b[32mBuilding CXX object jamspell/CMakeFiles/jamspell_lib.dir/spell_corrector.cpp.o\u001b[0m\n",
            "[ 25%] \u001b[32mBuilding CXX object jamspell/CMakeFiles/jamspell_lib.dir/lang_model.cpp.o\u001b[0m\n",
            "[ 29%] \u001b[32mBuilding CXX object jamspell/CMakeFiles/jamspell_lib.dir/utils.cpp.o\u001b[0m\n",
            "[ 33%] \u001b[32mBuilding CXX object jamspell/CMakeFiles/jamspell_lib.dir/perfect_hash.cpp.o\u001b[0m\n",
            "[ 37%] \u001b[32mBuilding CXX object jamspell/CMakeFiles/jamspell_lib.dir/bloom_filter.cpp.o\u001b[0m\n",
            "[ 41%] \u001b[32m\u001b[1mLinking CXX static library libjamspell_lib.a\u001b[0m\n",
            "[ 41%] Built target jamspell_lib\n",
            "[ 45%] \u001b[32mBuilding CXX object main/CMakeFiles/jamspell.dir/main.cpp.o\u001b[0m\n",
            "[ 50%] \u001b[32m\u001b[1mLinking CXX executable jamspell\u001b[0m\n",
            "[ 50%] Built target jamspell\n",
            "[ 54%] \u001b[32mBuilding CXX object contrib/handypack/CMakeFiles/handypack.dir/handypack.cpp.o\u001b[0m\n",
            "[ 58%] \u001b[32m\u001b[1mLinking CXX static library libhandypack.a\u001b[0m\n",
            "[ 58%] Built target handypack\n",
            "[ 62%] \u001b[32mBuilding CXX object contrib/bloom/CMakeFiles/bloom.dir/bloom_filter.cpp.o\u001b[0m\n",
            "[ 66%] \u001b[32m\u001b[1mLinking CXX static library libbloom.a\u001b[0m\n",
            "[ 66%] Built target bloom\n",
            "[ 70%] \u001b[32mBuilding CXX object contrib/tsl/CMakeFiles/tsl.dir/robin_map.cpp.o\u001b[0m\n",
            "[ 75%] \u001b[32m\u001b[1mLinking CXX static library libtsl.a\u001b[0m\n",
            "[ 75%] Built target tsl\n",
            "[ 79%] \u001b[32mBuilding CXX object contrib/httplib/CMakeFiles/httplib.dir/httplib.cpp.o\u001b[0m\n",
            "[ 83%] \u001b[32m\u001b[1mLinking CXX static library libhttplib.a\u001b[0m\n",
            "[ 83%] Built target httplib\n",
            "[ 87%] \u001b[32mBuilding CXX object contrib/nlohmann/CMakeFiles/nlohmann_json.dir/json.cpp.o\u001b[0m\n",
            "[ 91%] \u001b[32m\u001b[1mLinking CXX static library libnlohmann_json.a\u001b[0m\n",
            "[ 91%] Built target nlohmann_json\n",
            "[ 95%] \u001b[32mBuilding CXX object web_server/CMakeFiles/web_server.dir/main.cpp.o\u001b[0m\n",
            "[100%] \u001b[32m\u001b[1mLinking CXX executable web_server\u001b[0m\n",
            "[100%] Built target web_server\n"
          ]
        }
      ],
      "source": [
        "!git clone https://github.com/bakwc/JamSpell.git\n",
        "!cd JamSpell\n",
        "!cmake /content/JamSpell/CMakeLists.txt\n",
        "!make"
      ]
    },
    {
      "cell_type": "code",
      "source": [
        "!./main/jamspell train /content/JamSpell/test_data/alphabet_en.txt /content/all.txt big_model_eng.bin"
      ],
      "metadata": {
        "colab": {
          "base_uri": "https://localhost:8080/"
        },
        "id": "QI_joJGCOHRw",
        "outputId": "4c61ae46-b7f6-4dba-a16e-ec99a21ef969"
      },
      "execution_count": null,
      "outputs": [
        {
          "output_type": "stream",
          "name": "stdout",
          "text": [
            "[info] loading text\n",
            "[info] generating N-grams 4505115\n",
            "[info] processed 2.9716%\n",
            "[info] processed 5.60698%\n",
            "[info] processed 8.038%\n",
            "[info] processed 10.4477%\n",
            "[info] processed 12.7828%\n",
            "[info] processed 14.1416%\n",
            "[info] processed 16.0454%\n",
            "[info] processed 18.4034%\n",
            "[info] processed 21.126%\n",
            "[info] processed 23.9481%\n",
            "[info] processed 26.1401%\n",
            "[info] processed 28.5613%\n",
            "[info] processed 29.0611%\n",
            "[info] processed 31.1931%\n",
            "[info] processed 33.644%\n",
            "[info] processed 36.1638%\n",
            "[info] processed 38.2122%\n",
            "[info] processed 40.2331%\n",
            "[info] processed 41.8879%\n",
            "[info] processed 43.9568%\n",
            "[info] processed 46.0093%\n",
            "[info] processed 48.2294%\n",
            "[info] processed 50.5235%\n",
            "[info] processed 52.5091%\n",
            "[info] processed 54.6759%\n",
            "[info] processed 56.7116%\n",
            "[info] processed 58.568%\n",
            "[info] processed 60.2849%\n",
            "[info] processed 62.4882%\n",
            "[info] processed 64.5278%\n",
            "[info] processed 66.2567%\n",
            "[info] processed 67.3775%\n",
            "[info] processed 69.2919%\n",
            "[info] processed 71.3982%\n",
            "[info] processed 73.3479%\n",
            "[info] processed 75.436%\n",
            "[info] processed 77.4967%\n",
            "[info] processed 79.809%\n",
            "[info] processed 81.878%\n",
            "[info] processed 83.9637%\n",
            "[info] processed 86.1172%\n",
            "[info] processed 88.3329%\n",
            "[info] processed 90.2028%\n",
            "[info] processed 92.071%\n",
            "[info] processed 94.3448%\n",
            "[info] processed 96.206%\n",
            "[info] processed 98.043%\n",
            "[info] generating keys\n",
            "[info] ngrams1: 533679\n",
            "[info] ngrams2: 10878981\n",
            "[info] ngrams3: 34057755\n",
            "[info] total: 45470415\n",
            "[info] generating perf hash\n",
            "[info] finished, buckets: 56838059\n",
            "[info] buckets filled\n"
          ]
        }
      ]
    },
    {
      "cell_type": "code",
      "source": [
        "!pip install swig==3.0.6"
      ],
      "metadata": {
        "colab": {
          "base_uri": "https://localhost:8080/"
        },
        "id": "Dq8TsrNvWPx-",
        "outputId": "e827eb0d-f66b-47e8-c8d5-26385abadccb"
      },
      "execution_count": null,
      "outputs": [
        {
          "output_type": "stream",
          "name": "stdout",
          "text": [
            "Collecting swig==3.0.6\n",
            "  Downloading swig-3.0.6-py2.py3-none-manylinux_2_5_x86_64.manylinux1_x86_64.whl (3.4 MB)\n",
            "\u001b[2K     \u001b[90m━━━━━━━━━━━━━━━━━━━━━━━━━━━━━━━━━━━━━━━━\u001b[0m \u001b[32m3.4/3.4 MB\u001b[0m \u001b[31m6.7 MB/s\u001b[0m eta \u001b[36m0:00:00\u001b[0m\n",
            "\u001b[?25hInstalling collected packages: swig\n",
            "Successfully installed swig-3.0.6\n"
          ]
        }
      ]
    },
    {
      "cell_type": "code",
      "source": [
        "!sudo pip install jamspell"
      ],
      "metadata": {
        "colab": {
          "base_uri": "https://localhost:8080/"
        },
        "id": "NO7lSvX4V4CG",
        "outputId": "49dc12f8-815b-4fdf-e7c5-3d51ae03df7f"
      },
      "execution_count": null,
      "outputs": [
        {
          "output_type": "stream",
          "name": "stdout",
          "text": [
            "Requirement already satisfied: jamspell in /usr/local/lib/python3.10/dist-packages (0.0.12)\n"
          ]
        }
      ]
    },
    {
      "cell_type": "code",
      "source": [
        "import jamspell"
      ],
      "metadata": {
        "id": "Jjte6ndwV8n5"
      },
      "execution_count": 30,
      "outputs": []
    },
    {
      "cell_type": "code",
      "source": [
        "jsp = jamspell.TSpellCorrector()\n",
        "assert jsp.LoadLangModel('/content/model_eng.bin')\n",
        "jsp.FixFragment('I am the begt spell cherken!')\n",
        "# u'I am the best spell checker!'\n"
      ],
      "metadata": {
        "colab": {
          "base_uri": "https://localhost:8080/",
          "height": 227
        },
        "id": "bT_kkJKRYRDP",
        "outputId": "fe695c9f-c581-4f12-aa2c-b142c0e54f45"
      },
      "execution_count": 31,
      "outputs": [
        {
          "output_type": "error",
          "ename": "AttributeError",
          "evalue": "ignored",
          "traceback": [
            "\u001b[0;31m---------------------------------------------------------------------------\u001b[0m",
            "\u001b[0;31mAttributeError\u001b[0m                            Traceback (most recent call last)",
            "\u001b[0;32m<ipython-input-31-3dcbdb623d36>\u001b[0m in \u001b[0;36m<cell line: 1>\u001b[0;34m()\u001b[0m\n\u001b[0;32m----> 1\u001b[0;31m \u001b[0mjsp\u001b[0m \u001b[0;34m=\u001b[0m \u001b[0mjamspell\u001b[0m\u001b[0;34m.\u001b[0m\u001b[0mTSpellCorrector\u001b[0m\u001b[0;34m(\u001b[0m\u001b[0;34m)\u001b[0m\u001b[0;34m\u001b[0m\u001b[0;34m\u001b[0m\u001b[0m\n\u001b[0m\u001b[1;32m      2\u001b[0m \u001b[0;32massert\u001b[0m \u001b[0mjsp\u001b[0m\u001b[0;34m.\u001b[0m\u001b[0mLoadLangModel\u001b[0m\u001b[0;34m(\u001b[0m\u001b[0;34m'/content/model_eng.bin'\u001b[0m\u001b[0;34m)\u001b[0m\u001b[0;34m\u001b[0m\u001b[0;34m\u001b[0m\u001b[0m\n\u001b[1;32m      3\u001b[0m \u001b[0mjsp\u001b[0m\u001b[0;34m.\u001b[0m\u001b[0mFixFragment\u001b[0m\u001b[0;34m(\u001b[0m\u001b[0;34m'I am the begt spell cherken!'\u001b[0m\u001b[0;34m)\u001b[0m\u001b[0;34m\u001b[0m\u001b[0;34m\u001b[0m\u001b[0m\n\u001b[1;32m      4\u001b[0m \u001b[0;31m# u'I am the best spell checker!'\u001b[0m\u001b[0;34m\u001b[0m\u001b[0;34m\u001b[0m\u001b[0m\n",
            "\u001b[0;31mAttributeError\u001b[0m: module 'jamspell' has no attribute 'TSpellCorrector'"
          ]
        }
      ]
    }
  ]
}