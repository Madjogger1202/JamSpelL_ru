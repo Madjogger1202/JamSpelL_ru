{
  "cells": [
    {
      "cell_type": "markdown",
      "metadata": {
        "id": "view-in-github",
        "colab_type": "text"
      },
      "source": [
        "<a href=\"https://colab.research.google.com/github/Madjogger1202/JamSpelL_ru/blob/main/Spell_check.ipynb\" target=\"_parent\"><img src=\"https://colab.research.google.com/assets/colab-badge.svg\" alt=\"Open In Colab\"/></a>"
      ]
    },
    {
      "cell_type": "markdown",
      "source": [
        "#Тестовый запуск"
      ],
      "metadata": {
        "id": "-Zk5cyXl_Y86"
      }
    },
    {
      "cell_type": "code",
      "source": [
        "!git clone https://huggingface.co/datasets/Madjogger/JamSpell_dataset\n",
        "!git clone https://github.com/Madjogger1202/JamSpell.git\n",
        "!cd JamSpell\n",
        "!cmake /content/JamSpell/CMakeLists.txt\n",
        "!make\n",
        "#!./main/jamspell train /content/JamSpell/alphabet/en_ascii.txt /content/JamSpell_dataset/eng.txt en_model.bin\n",
        "!sudo apt-get install swig3.0\n",
        "!sudo pip install jamspell\n",
        "!sudo pip install  autocorrect\n",
        "!sudo pip install pyspellchecker\n",
        "!pip install bitarray"
      ],
      "metadata": {
        "colab": {
          "base_uri": "https://localhost:8080/"
        },
        "id": "P6mwP3Ki_gNr",
        "outputId": "dd9f5a60-fe0d-486a-f1af-0b8962aab1fb"
      },
      "execution_count": 1,
      "outputs": [
        {
          "output_type": "stream",
          "name": "stdout",
          "text": [
            "Cloning into 'JamSpell_dataset'...\n",
            "remote: Enumerating objects: 37, done.\u001b[K\n",
            "remote: Counting objects: 100% (33/33), done.\u001b[K\n",
            "remote: Compressing objects: 100% (33/33), done.\u001b[K\n",
            "remote: Total 37 (delta 11), reused 0 (delta 0), pack-reused 4\u001b[K\n",
            "Unpacking objects: 100% (37/37), 4.74 KiB | 127.00 KiB/s, done.\n",
            "Filtering content: 100% (10/10), 5.13 GiB | 59.31 MiB/s, done.\n",
            "Cloning into 'JamSpell'...\n",
            "remote: Enumerating objects: 1200, done.\u001b[K\n",
            "remote: Counting objects: 100% (178/178), done.\u001b[K\n",
            "remote: Compressing objects: 100% (137/137), done.\u001b[K\n",
            "remote: Total 1200 (delta 82), reused 47 (delta 19), pack-reused 1022\u001b[K\n",
            "Receiving objects: 100% (1200/1200), 712.91 KiB | 16.97 MiB/s, done.\n",
            "Resolving deltas: 100% (723/723), done.\n",
            "-- The C compiler identification is GNU 11.4.0\n",
            "-- The CXX compiler identification is GNU 11.4.0\n",
            "-- Detecting C compiler ABI info\n",
            "-- Detecting C compiler ABI info - done\n",
            "-- Check for working C compiler: /usr/bin/cc - skipped\n",
            "-- Detecting C compile features\n",
            "-- Detecting C compile features - done\n",
            "-- Detecting CXX compiler ABI info\n",
            "-- Detecting CXX compiler ABI info - done\n",
            "-- Check for working CXX compiler: /usr/bin/c++ - skipped\n",
            "-- Detecting CXX compile features\n",
            "-- Detecting CXX compile features - done\n",
            "-- Could NOT find GTest (missing: GTEST_LIBRARY GTEST_INCLUDE_DIR GTEST_MAIN_LIBRARY) \n",
            "-- Performing Test CMAKE_HAVE_LIBC_PTHREAD\n",
            "-- Performing Test CMAKE_HAVE_LIBC_PTHREAD - Success\n",
            "-- Found Threads: TRUE  \n",
            "-- Configuring done (1.2s)\n",
            "-- Generating done (0.0s)\n",
            "-- Build files have been written to: /content\n",
            "[  4%] \u001b[32mBuilding CXX object contrib/cityhash/CMakeFiles/cityhash.dir/city.cc.o\u001b[0m\n",
            "[  8%] \u001b[32m\u001b[1mLinking CXX static library libcityhash.a\u001b[0m\n",
            "[  8%] Built target cityhash\n",
            "[ 12%] \u001b[32mBuilding CXX object contrib/phf/CMakeFiles/phf.dir/phf.cc.o\u001b[0m\n",
            "[ 16%] \u001b[32m\u001b[1mLinking CXX static library libphf.a\u001b[0m\n",
            "[ 16%] Built target phf\n",
            "[ 20%] \u001b[32mBuilding CXX object jamspell/CMakeFiles/jamspell_lib.dir/spell_corrector.cpp.o\u001b[0m\n",
            "[ 25%] \u001b[32mBuilding CXX object jamspell/CMakeFiles/jamspell_lib.dir/lang_model.cpp.o\u001b[0m\n",
            "[ 29%] \u001b[32mBuilding CXX object jamspell/CMakeFiles/jamspell_lib.dir/utils.cpp.o\u001b[0m\n",
            "[ 33%] \u001b[32mBuilding CXX object jamspell/CMakeFiles/jamspell_lib.dir/perfect_hash.cpp.o\u001b[0m\n",
            "[ 37%] \u001b[32mBuilding CXX object jamspell/CMakeFiles/jamspell_lib.dir/bloom_filter.cpp.o\u001b[0m\n",
            "[ 41%] \u001b[32m\u001b[1mLinking CXX static library libjamspell_lib.a\u001b[0m\n",
            "[ 41%] Built target jamspell_lib\n",
            "[ 45%] \u001b[32mBuilding CXX object main/CMakeFiles/jamspell.dir/main.cpp.o\u001b[0m\n",
            "[ 50%] \u001b[32m\u001b[1mLinking CXX executable jamspell\u001b[0m\n",
            "[ 50%] Built target jamspell\n",
            "[ 54%] \u001b[32mBuilding CXX object contrib/handypack/CMakeFiles/handypack.dir/handypack.cpp.o\u001b[0m\n",
            "[ 58%] \u001b[32m\u001b[1mLinking CXX static library libhandypack.a\u001b[0m\n",
            "[ 58%] Built target handypack\n",
            "[ 62%] \u001b[32mBuilding CXX object contrib/bloom/CMakeFiles/bloom.dir/bloom_filter.cpp.o\u001b[0m\n",
            "[ 66%] \u001b[32m\u001b[1mLinking CXX static library libbloom.a\u001b[0m\n",
            "[ 66%] Built target bloom\n",
            "[ 70%] \u001b[32mBuilding CXX object contrib/tsl/CMakeFiles/tsl.dir/robin_map.cpp.o\u001b[0m\n",
            "[ 75%] \u001b[32m\u001b[1mLinking CXX static library libtsl.a\u001b[0m\n",
            "[ 75%] Built target tsl\n",
            "[ 79%] \u001b[32mBuilding CXX object contrib/httplib/CMakeFiles/httplib.dir/httplib.cpp.o\u001b[0m\n",
            "[ 83%] \u001b[32m\u001b[1mLinking CXX static library libhttplib.a\u001b[0m\n",
            "[ 83%] Built target httplib\n",
            "[ 87%] \u001b[32mBuilding CXX object contrib/nlohmann/CMakeFiles/nlohmann_json.dir/json.cpp.o\u001b[0m\n",
            "[ 91%] \u001b[32m\u001b[1mLinking CXX static library libnlohmann_json.a\u001b[0m\n",
            "[ 91%] Built target nlohmann_json\n",
            "[ 95%] \u001b[32mBuilding CXX object web_server/CMakeFiles/web_server.dir/main.cpp.o\u001b[0m\n",
            "[100%] \u001b[32m\u001b[1mLinking CXX executable web_server\u001b[0m\n",
            "[100%] Built target web_server\n",
            "Reading package lists... Done\n",
            "Building dependency tree... Done\n",
            "Reading state information... Done\n",
            "Suggested packages:\n",
            "  swig3.0-examples swig3.0-doc\n",
            "The following NEW packages will be installed:\n",
            "  swig3.0\n",
            "0 upgraded, 1 newly installed, 0 to remove and 19 not upgraded.\n",
            "Need to get 1,109 kB of archives.\n",
            "After this operation, 5,555 kB of additional disk space will be used.\n",
            "Get:1 http://archive.ubuntu.com/ubuntu jammy/universe amd64 swig3.0 amd64 3.0.12-2.2ubuntu1 [1,109 kB]\n",
            "Fetched 1,109 kB in 1s (1,534 kB/s)\n",
            "debconf: unable to initialize frontend: Dialog\n",
            "debconf: (No usable dialog-like program is installed, so the dialog based frontend cannot be used. at /usr/share/perl5/Debconf/FrontEnd/Dialog.pm line 78, <> line 1.)\n",
            "debconf: falling back to frontend: Readline\n",
            "debconf: unable to initialize frontend: Readline\n",
            "debconf: (This frontend requires a controlling tty.)\n",
            "debconf: falling back to frontend: Teletype\n",
            "dpkg-preconfigure: unable to re-open stdin: \n",
            "Selecting previously unselected package swig3.0.\n",
            "(Reading database ... 120874 files and directories currently installed.)\n",
            "Preparing to unpack .../swig3.0_3.0.12-2.2ubuntu1_amd64.deb ...\n",
            "Unpacking swig3.0 (3.0.12-2.2ubuntu1) ...\n",
            "Setting up swig3.0 (3.0.12-2.2ubuntu1) ...\n",
            "Processing triggers for man-db (2.10.2-1) ...\n",
            "Collecting jamspell\n",
            "  Downloading jamspell-0.0.12.tar.gz (174 kB)\n",
            "\u001b[2K     \u001b[90m━━━━━━━━━━━━━━━━━━━━━━━━━━━━━━━━━━━━━━━\u001b[0m \u001b[32m174.3/174.3 kB\u001b[0m \u001b[31m2.8 MB/s\u001b[0m eta \u001b[36m0:00:00\u001b[0m\n",
            "\u001b[?25h  Preparing metadata (setup.py) ... \u001b[?25l\u001b[?25hdone\n",
            "Building wheels for collected packages: jamspell\n",
            "  Building wheel for jamspell (setup.py) ... \u001b[?25l\u001b[?25hdone\n",
            "  Created wheel for jamspell: filename=jamspell-0.0.12-cp310-cp310-linux_x86_64.whl size=1782252 sha256=f45279d88b336b5caf385526eadba67a5efaa4b35e915e3d778491afebeb32b0\n",
            "  Stored in directory: /root/.cache/pip/wheels/95/af/d3/fb57122fda2851ad5972ce80640001c568dcffdf16bc9ddb17\n",
            "Successfully built jamspell\n",
            "Installing collected packages: jamspell\n",
            "Successfully installed jamspell-0.0.12\n",
            "Collecting autocorrect\n",
            "  Downloading autocorrect-2.6.1.tar.gz (622 kB)\n",
            "\u001b[2K     \u001b[90m━━━━━━━━━━━━━━━━━━━━━━━━━━━━━━━━━━━━━━━\u001b[0m \u001b[32m622.8/622.8 kB\u001b[0m \u001b[31m9.8 MB/s\u001b[0m eta \u001b[36m0:00:00\u001b[0m\n",
            "\u001b[?25h  Preparing metadata (setup.py) ... \u001b[?25l\u001b[?25hdone\n",
            "Building wheels for collected packages: autocorrect\n",
            "  Building wheel for autocorrect (setup.py) ... \u001b[?25l\u001b[?25hdone\n",
            "  Created wheel for autocorrect: filename=autocorrect-2.6.1-py3-none-any.whl size=622363 sha256=080557b835cba2ae6fb21afd8bb8146215ef1cd415d3f1d24829dc0e39250e32\n",
            "  Stored in directory: /root/.cache/pip/wheels/b5/7b/6d/b76b29ce11ff8e2521c8c7dd0e5bfee4fb1789d76193124343\n",
            "Successfully built autocorrect\n",
            "Installing collected packages: autocorrect\n",
            "Successfully installed autocorrect-2.6.1\n",
            "Collecting pyspellchecker\n",
            "  Downloading pyspellchecker-0.7.2-py3-none-any.whl (3.4 MB)\n",
            "\u001b[2K     \u001b[90m━━━━━━━━━━━━━━━━━━━━━━━━━━━━━━━━━━━━━━━━\u001b[0m \u001b[32m3.4/3.4 MB\u001b[0m \u001b[31m33.3 MB/s\u001b[0m eta \u001b[36m0:00:00\u001b[0m\n",
            "\u001b[?25hInstalling collected packages: pyspellchecker\n",
            "Successfully installed pyspellchecker-0.7.2\n",
            "Collecting bitarray\n",
            "  Downloading bitarray-2.8.2-cp310-cp310-manylinux_2_17_x86_64.manylinux2014_x86_64.whl (286 kB)\n",
            "\u001b[2K     \u001b[90m━━━━━━━━━━━━━━━━━━━━━━━━━━━━━━━━━━━━━━━━\u001b[0m \u001b[32m286.5/286.5 kB\u001b[0m \u001b[31m4.2 MB/s\u001b[0m eta \u001b[36m0:00:00\u001b[0m\n",
            "\u001b[?25hInstalling collected packages: bitarray\n",
            "Successfully installed bitarray-2.8.2\n"
          ]
        }
      ]
    },
    {
      "cell_type": "markdown",
      "source": [
        "Создать побитый файл - 12% бит искажены"
      ],
      "metadata": {
        "id": "uJGnT08k_6u0"
      }
    },
    {
      "cell_type": "code",
      "source": [
        "import os\n",
        "import random\n",
        "import binascii\n",
        "from bitarray import bitarray\n",
        "\n",
        "err_percent = 5\n",
        "start_txt = \"The component may have a 3d model that can be used in the development of the board design. For more information about the representation of the board as a 3d model, see section 9.9.\"\n",
        "start_txt = \"Who's about what, and I decided to realize a long-standing dream of a voice assistant. The video shows a small demonstration of what is ready now, but this is just the beginning. In an ideal combination of forces and time, a voice assistant will be released that will use the latest model ruGPT3.5, which the Beac recently put into open access. Yes, yes, in fact - a mini AI with a voice that will be activated locally on the computer. Speech generation is already partially ready, but I don't like the delay in creating a file, so I'm conjuring to use CUDA cores in the code (it doesn't come out much yet)\"\n",
        "#f = open('/content/recieved_frst_str.txt','r')\n",
        "#start_txt = f.read()\n",
        "print(start_txt)\n",
        "#f.close()\n",
        "\n",
        "\n",
        "space_count=start_txt.count(' ')\n",
        "print(space_count)\n",
        "f = open('/content/spaces.txt','w+')\n",
        "\n",
        "out_txt=''\n",
        "curr_pos=0\n",
        "for i in start_txt:\n",
        "  if(i==' '):\n",
        "    #print(curr_pos)\n",
        "    f.write(str(curr_pos) + '\\n')\n",
        "  curr_pos+=1\n",
        "f.close()\n",
        "\n",
        "def set_bit(v, index, x):\n",
        "  \"\"\"Set the index:th bit of v to 1 if x is truthy, else to 0, and return the new value.\"\"\"\n",
        "  mask = 1 << index   # Compute mask, an integer with just bit 'index' set.\n",
        "  v &= ~mask          # Clear the bit indicated by the mask (if x is False)\n",
        "  if x:\n",
        "    v |= mask         # If x was True, set the bit indicated by the mask.\n",
        "  return v            # Return the result, we're done.\n",
        "def to_bin_s(a):\n",
        "    c =' '.join(['0'*(8-len(bin(ord(i))[2:]))+(bin(ord(i))[2:]) for i in a])\n",
        "    return c\n",
        "\n",
        "def bits(ch_in, pos):\n",
        "  in_byte=to_bin_s(ch_in)\n",
        "  #print(in_byte)\n",
        "  return (in_byte[pos]=='1')\n",
        "\n",
        "recieved_str=''\n",
        "for i in start_txt:\n",
        "  #print(bin(ord(i))[2:].zfill(8))\n",
        "  bts = bitarray(bin(ord(i))[2:].zfill(8))\n",
        "  #print(bts.tobytes().decode('ascii'))\n",
        "print('Out:')\n",
        "for i in start_txt:\n",
        "  out_char=(bin(ord(i))[2:].zfill(8))\n",
        "  str_bin_ch=''\n",
        "  for j in range(0, 8):\n",
        "    bad_symbol=(random.randint(0, 1000)<=err_percent)\n",
        "    if(bad_symbol):\n",
        "      if(out_char[j]=='1'):\n",
        "        str_bin_ch+='0'\n",
        "      else:\n",
        "        str_bin_ch+='1'\n",
        "    else:\n",
        "      str_bin_ch+=out_char[j]\n",
        "      #set_bit(out_char, j, 0)\n",
        "  bts = bitarray(str_bin_ch)\n",
        "  recieved_str+=bts.tobytes().decode('cp1251')\n",
        "  #print(str_bin_ch)\n",
        "  #print(recieved_str)\n",
        "\n",
        "print(recieved_str)\n",
        "\n",
        "f = open('/content/recieved_str.txt','w+')\n",
        "f.write(recieved_str)\n",
        "f.close()"
      ],
      "metadata": {
        "colab": {
          "base_uri": "https://localhost:8080/"
        },
        "id": "XBX_w7G5_3YM",
        "outputId": "51a17331-f26b-435e-bdc6-1b47834bc162"
      },
      "execution_count": 14,
      "outputs": [
        {
          "output_type": "stream",
          "name": "stdout",
          "text": [
            "Who's about what, and I decided to realize a long-standing dream of a voice assistant. The video shows a small demonstration of what is ready now, but this is just the beginning. In an ideal combination of forces and time, a voice assistant will be released that will use the latest model ruGPT3.5, which the Beac recently put into open access. Yes, yes, in fact - a mini AI with a voice that will be activated locally on the computer. Speech generation is already partially ready, but I don't like the delay in creating a file, so I'm conjuring to use CUDA cores in the code (it doesn't come out much yet)\n",
            "111\n",
            "Out:\n",
            "Who'3 about what, and I decided to realize a long-standmng dream of a voice assistant. The video shows a\u0000small demonsфration of what is ready now, but this is just the beginning. In an ideal combinatimn of borces and time, A voiCe assistant will be released that will use the latest model ruGPT3.5, which the Bgac recently put into open access. Yes, yes, in fact - a mini AI with a voice thit will be activated locally on tje computer. Spuech genmration is already\u0000partially reaDy,\"but I don'4 like\u0000the delay in creating c &ile, so I'm conjuring to use CUDA cores in thg cлde (it doesn't come out much yet)\n"
          ]
        }
      ]
    },
    {
      "cell_type": "markdown",
      "source": [
        "Исправление ошибок:"
      ],
      "metadata": {
        "id": "mO6V-nrtAPfS"
      }
    },
    {
      "cell_type": "code",
      "source": [
        "import jamspell\n",
        "import time\n",
        "from autocorrect import Speller\n",
        "from collections import Counter\n",
        "from array import array\n",
        "\n",
        "\n",
        "spell = Speller(lang='en')\n",
        "jsp = jamspell.TSpellCorrector()\n",
        "jsp.LoadLangModel('en_model.bin')\n",
        "\n",
        "good_symbols_en = \" abcd-efghijklmnopqrstuvwxyz!,:.0123456789?'ABCDEFGHIJKLMNOPQRSTUVWXYZ\" +'\"'\n",
        "bad_mid_symbols_en = \"!,.0123456789?%:;+=-()/?[]|\"\n",
        "bad_start_symbols_en = \"!,.?%:;+=-()/?[]|\"\n",
        "bad_end_symbols_en = \"!0123456789?%:;+=-()/?[]|\"\n",
        "num_symbols = \"0123456789\"\n",
        "letters_symbols_en = \"abcdefghijklmnopqrstuvwxyzABCDEFGHIJKLMNOPQRSTUVWXYZ\"\n",
        "extra_symbols_en = \"'\"\n",
        "\n",
        "f = open('/content/recieved_str.txt','r')\n",
        "input_str = f.read().rstrip()\n",
        "print(input_str)\n",
        "f.close()\n",
        "input_str=input_str.replace(\" \", \".\")\n",
        "list_str1=list(input_str)\n",
        "with open('/content/spaces.txt', \"r\") as file:\n",
        "  for line in file:\n",
        "    print(line)\n",
        "    list_str1[int(line)]=' '\n",
        "f = open('/content/recieved_str.txt','w+')\n",
        "f.write((''.join(list_str1)))\n",
        "print(list_str1)\n",
        "f.close()\n",
        "file.close()\n",
        "\n",
        "\n",
        "\n",
        "in_lines=[]\n",
        "with open('/content/recieved_str.txt','r') as file:\n",
        "  for line in file:\n",
        "    in_lines.append(line)\n",
        "print(in_lines)\n",
        "file.close()\n",
        "\n",
        "start = time.time()\n",
        "\n",
        "my_file = open(\"/content/output_text.txt\", \"w+\")\n",
        "for in_line in in_lines:\n",
        "  input_str=in_line\n",
        "  print(jsp.FixFragment(input_str))\n",
        "  list_str1=list(input_str)\n",
        "  for i in range(0, len(list_str1)-1):\n",
        "    if list_str1[i] not in good_symbols_en:\n",
        "      list_str1[i]='/'\n",
        "  #if list_str1[i] in num_symbols:\n",
        "  #  if i>=1 and i<len(list_str1):\n",
        "  #    if (list_str1[i-1] in letters_symbols_en) or (list_str1[i+1] in letters_symbols_en):\n",
        "  #      list_str1[i]='/'\n",
        "  #if list_str1[i] in bad_mid_symbols_en:\n",
        "  #  if i>=1 and i<len(list_str1):\n",
        "  #    if (list_str1[i-1] != ' ') or (list_str1[i+1] != ' '):\n",
        "  #      list_str1[i]='/'\n",
        "  new_str1=''.join(list_str1)\n",
        "  print(new_str1)\n",
        "\n",
        "  str_txt1 = jsp.FixFragment(new_str1)\n",
        "  print(str_txt1)\n",
        "  new_txt1=''\n",
        "  isNewW=True\n",
        "  isFirstUpper=False\n",
        "  for i in str_txt1:\n",
        "    if(isNewW):\n",
        "      isFirstUpper=i.isupper()\n",
        "      isNewW=False\n",
        "    elif (i.isupper() and (not isNewW) and (not isFirstUpper)):\n",
        "     i=i.lower()\n",
        "    if(i==' '):\n",
        "      isNewW=True\n",
        "    new_txt1+=i\n",
        "\n",
        "  str_txt1=new_txt1\n",
        "  str_final = spell(new_txt1)\n",
        "  print(str_final)\n",
        "  my_file.write(str_final)\n",
        "my_file.close()\n",
        "\n",
        "\n",
        "end = time.time()\n",
        "print(\"jamspell обработал за : \",(end-start) * 10**3, \"ms\")"
      ],
      "metadata": {
        "colab": {
          "base_uri": "https://localhost:8080/"
        },
        "id": "5IQcV6pCAQkC",
        "outputId": "54c2db4c-0db9-4122-b6b4-ee5a758a2f7f"
      },
      "execution_count": 15,
      "outputs": [
        {
          "output_type": "stream",
          "name": "stdout",
          "text": [
            "Who'3 about what, and I decided to realize a long-standmng dream of a voice assistant. The video shows a\u0000small demonsфration of what is ready now, but this is just the beginning. In an ideal combinatimn of borces and time, A voiCe assistant will be released that will use the latest model ruGPT3.5, which the Bgac recently put into open access. Yes, yes, in fact - a mini AI with a voice thit will be activated locally on tje computer. Spuech genmration is already\u0000partially reaDy,\"but I don'4 like\u0000the delay in creating c &ile, so I'm conjuring to use CUDA cores in thg cлde (it doesn't come out much yet)\n",
            "5\n",
            "\n",
            "11\n",
            "\n",
            "17\n",
            "\n",
            "21\n",
            "\n",
            "23\n",
            "\n",
            "31\n",
            "\n",
            "34\n",
            "\n",
            "42\n",
            "\n",
            "44\n",
            "\n",
            "58\n",
            "\n",
            "64\n",
            "\n",
            "67\n",
            "\n",
            "69\n",
            "\n",
            "75\n",
            "\n",
            "86\n",
            "\n",
            "90\n",
            "\n",
            "96\n",
            "\n",
            "102\n",
            "\n",
            "104\n",
            "\n",
            "110\n",
            "\n",
            "124\n",
            "\n",
            "127\n",
            "\n",
            "132\n",
            "\n",
            "135\n",
            "\n",
            "141\n",
            "\n",
            "146\n",
            "\n",
            "150\n",
            "\n",
            "155\n",
            "\n",
            "158\n",
            "\n",
            "163\n",
            "\n",
            "167\n",
            "\n",
            "178\n",
            "\n",
            "181\n",
            "\n",
            "184\n",
            "\n",
            "190\n",
            "\n",
            "202\n",
            "\n",
            "205\n",
            "\n",
            "212\n",
            "\n",
            "216\n",
            "\n",
            "222\n",
            "\n",
            "224\n",
            "\n",
            "230\n",
            "\n",
            "240\n",
            "\n",
            "245\n",
            "\n",
            "248\n",
            "\n",
            "257\n",
            "\n",
            "262\n",
            "\n",
            "267\n",
            "\n",
            "271\n",
            "\n",
            "275\n",
            "\n",
            "282\n",
            "\n",
            "288\n",
            "\n",
            "298\n",
            "\n",
            "304\n",
            "\n",
            "308\n",
            "\n",
            "313\n",
            "\n",
            "322\n",
            "\n",
            "326\n",
            "\n",
            "331\n",
            "\n",
            "336\n",
            "\n",
            "344\n",
            "\n",
            "349\n",
            "\n",
            "354\n",
            "\n",
            "357\n",
            "\n",
            "362\n",
            "\n",
            "364\n",
            "\n",
            "366\n",
            "\n",
            "371\n",
            "\n",
            "374\n",
            "\n",
            "379\n",
            "\n",
            "381\n",
            "\n",
            "387\n",
            "\n",
            "392\n",
            "\n",
            "397\n",
            "\n",
            "400\n",
            "\n",
            "410\n",
            "\n",
            "418\n",
            "\n",
            "421\n",
            "\n",
            "425\n",
            "\n",
            "435\n",
            "\n",
            "442\n",
            "\n",
            "453\n",
            "\n",
            "456\n",
            "\n",
            "464\n",
            "\n",
            "474\n",
            "\n",
            "481\n",
            "\n",
            "485\n",
            "\n",
            "487\n",
            "\n",
            "493\n",
            "\n",
            "498\n",
            "\n",
            "502\n",
            "\n",
            "508\n",
            "\n",
            "511\n",
            "\n",
            "520\n",
            "\n",
            "522\n",
            "\n",
            "528\n",
            "\n",
            "531\n",
            "\n",
            "535\n",
            "\n",
            "545\n",
            "\n",
            "548\n",
            "\n",
            "552\n",
            "\n",
            "557\n",
            "\n",
            "563\n",
            "\n",
            "566\n",
            "\n",
            "570\n",
            "\n",
            "575\n",
            "\n",
            "579\n",
            "\n",
            "587\n",
            "\n",
            "592\n",
            "\n",
            "596\n",
            "\n",
            "601\n",
            "\n",
            "['W', 'h', 'o', \"'\", '3', ' ', 'a', 'b', 'o', 'u', 't', ' ', 'w', 'h', 'a', 't', ',', ' ', 'a', 'n', 'd', ' ', 'I', ' ', 'd', 'e', 'c', 'i', 'd', 'e', 'd', ' ', 't', 'o', ' ', 'r', 'e', 'a', 'l', 'i', 'z', 'e', ' ', 'a', ' ', 'l', 'o', 'n', 'g', '-', 's', 't', 'a', 'n', 'd', 'm', 'n', 'g', ' ', 'd', 'r', 'e', 'a', 'm', ' ', 'o', 'f', ' ', 'a', ' ', 'v', 'o', 'i', 'c', 'e', ' ', 'a', 's', 's', 'i', 's', 't', 'a', 'n', 't', '.', ' ', 'T', 'h', 'e', ' ', 'v', 'i', 'd', 'e', 'o', ' ', 's', 'h', 'o', 'w', 's', ' ', 'a', ' ', 's', 'm', 'a', 'l', 'l', ' ', 'd', 'e', 'm', 'o', 'n', 's', 'ф', 'r', 'a', 't', 'i', 'o', 'n', ' ', 'o', 'f', ' ', 'w', 'h', 'a', 't', ' ', 'i', 's', ' ', 'r', 'e', 'a', 'd', 'y', ' ', 'n', 'o', 'w', ',', ' ', 'b', 'u', 't', ' ', 't', 'h', 'i', 's', ' ', 'i', 's', ' ', 'j', 'u', 's', 't', ' ', 't', 'h', 'e', ' ', 'b', 'e', 'g', 'i', 'n', 'n', 'i', 'n', 'g', '.', ' ', 'I', 'n', ' ', 'a', 'n', ' ', 'i', 'd', 'e', 'a', 'l', ' ', 'c', 'o', 'm', 'b', 'i', 'n', 'a', 't', 'i', 'm', 'n', ' ', 'o', 'f', ' ', 'b', 'o', 'r', 'c', 'e', 's', ' ', 'a', 'n', 'd', ' ', 't', 'i', 'm', 'e', ',', ' ', 'A', ' ', 'v', 'o', 'i', 'C', 'e', ' ', 'a', 's', 's', 'i', 's', 't', 'a', 'n', 't', ' ', 'w', 'i', 'l', 'l', ' ', 'b', 'e', ' ', 'r', 'e', 'l', 'e', 'a', 's', 'e', 'd', ' ', 't', 'h', 'a', 't', ' ', 'w', 'i', 'l', 'l', ' ', 'u', 's', 'e', ' ', 't', 'h', 'e', ' ', 'l', 'a', 't', 'e', 's', 't', ' ', 'm', 'o', 'd', 'e', 'l', ' ', 'r', 'u', 'G', 'P', 'T', '3', '.', '5', ',', ' ', 'w', 'h', 'i', 'c', 'h', ' ', 't', 'h', 'e', ' ', 'B', 'g', 'a', 'c', ' ', 'r', 'e', 'c', 'e', 'n', 't', 'l', 'y', ' ', 'p', 'u', 't', ' ', 'i', 'n', 't', 'o', ' ', 'o', 'p', 'e', 'n', ' ', 'a', 'c', 'c', 'e', 's', 's', '.', ' ', 'Y', 'e', 's', ',', ' ', 'y', 'e', 's', ',', ' ', 'i', 'n', ' ', 'f', 'a', 'c', 't', ' ', '-', ' ', 'a', ' ', 'm', 'i', 'n', 'i', ' ', 'A', 'I', ' ', 'w', 'i', 't', 'h', ' ', 'a', ' ', 'v', 'o', 'i', 'c', 'e', ' ', 't', 'h', 'i', 't', ' ', 'w', 'i', 'l', 'l', ' ', 'b', 'e', ' ', 'a', 'c', 't', 'i', 'v', 'a', 't', 'e', 'd', ' ', 'l', 'o', 'c', 'a', 'l', 'l', 'y', ' ', 'o', 'n', ' ', 't', 'j', 'e', ' ', 'c', 'o', 'm', 'p', 'u', 't', 'e', 'r', '.', ' ', 'S', 'p', 'u', 'e', 'c', 'h', ' ', 'g', 'e', 'n', 'm', 'r', 'a', 't', 'i', 'o', 'n', ' ', 'i', 's', ' ', 'a', 'l', 'r', 'e', 'a', 'd', 'y', ' ', 'p', 'a', 'r', 't', 'i', 'a', 'l', 'l', 'y', ' ', 'r', 'e', 'a', 'D', 'y', ',', ' ', 'b', 'u', 't', ' ', 'I', ' ', 'd', 'o', 'n', \"'\", '4', ' ', 'l', 'i', 'k', 'e', ' ', 't', 'h', 'e', ' ', 'd', 'e', 'l', 'a', 'y', ' ', 'i', 'n', ' ', 'c', 'r', 'e', 'a', 't', 'i', 'n', 'g', ' ', 'c', ' ', '&', 'i', 'l', 'e', ',', ' ', 's', 'o', ' ', 'I', \"'\", 'm', ' ', 'c', 'o', 'n', 'j', 'u', 'r', 'i', 'n', 'g', ' ', 't', 'o', ' ', 'u', 's', 'e', ' ', 'C', 'U', 'D', 'A', ' ', 'c', 'o', 'r', 'e', 's', ' ', 'i', 'n', ' ', 't', 'h', 'g', ' ', 'c', 'л', 'd', 'e', ' ', '(', 'i', 't', ' ', 'd', 'o', 'e', 's', 'n', \"'\", 't', ' ', 'c', 'o', 'm', 'e', ' ', 'o', 'u', 't', ' ', 'm', 'u', 'c', 'h', ' ', 'y', 'e', 't', ')']\n",
            "[\"Who'3 about what, and I decided to realize a long-standmng dream of a voice assistant. The video shows a small demonsфration of what is ready now, but this is just the beginning. In an ideal combinatimn of borces and time, A voiCe assistant will be released that will use the latest model ruGPT3.5, which the Bgac recently put into open access. Yes, yes, in fact - a mini AI with a voice thit will be activated locally on tje computer. Spuech genmration is already partially reaDy, but I don'4 like the delay in creating c &ile, so I'm conjuring to use CUDA cores in thg cлde (it doesn't come out much yet)\"]\n",
            "Who'3 about what, and I decided to realize a long-standmng dream of a voice assistant. The video shows a small demonsфration of what is ready now, but this is just the beginning. In an ideal combinatimn of borces and time, A voiCe assistant will be released that will use the latest model ruGPT3.5, which the Bgac recently put into open access. Yes, yes, in fact - a mini AI with a voice thit will be activated locally on tje computer. Spuech genmration is already partially reaDy, but I don'4 like the delay in creating c &ile, so I'm conjuring to use CUDA cores in thg cлde (it doesn't come out much yet)\n",
            "Who'3 about what, and I decided to realize a long-standmng dream of a voice assistant. The video shows a small demons/ration of what is ready now, but this is just the beginning. In an ideal combinatimn of borces and time, A voiCe assistant will be released that will use the latest model ruGPT3.5, which the Bgac recently put into open access. Yes, yes, in fact - a mini AI with a voice thit will be activated locally on tje computer. Spuech genmration is already partially reaDy, but I don'4 like the delay in creating c /ile, so I'm conjuring to use CUDA cores in thg c/de /it doesn't come out much yet)\n",
            "Who'3 about what, and I decided to realize a long-standmng dream of a voice assistant. The video shows a small demons/ration of what is ready now, but this is just the beginning. In an ideal combinatimn of borces and time, A voiCe assistant will be released that will use the latest model ruGPT3.5, which the Bgac recently put into open access. Yes, yes, in fact - a mini AI with a voice thit will be activated locally on tje computer. Spuech genmration is already partially reaDy, but I don'4 like the delay in creating c /ile, so I'm conjuring to use CUDA cores in thg c/de /it doesn't come out much yet)\n",
            "Who'3 about what, and I decided to realize a long-standing dream of a voice assistant. The video shows a small demons/ration of what is ready now, but this is just the beginning. In an ideal combination of forces and time, A voice assistant will be released that will use the latest model right3.5, which the Bac recently put into open access. Yes, yes, in fact - a mini A with a voice that will be activated locally on the computer. Speech generation is already partially ready, but I don'4 like the delay in creating c /ile, so I'm confusing to use CDA cores in the c/de /it doesn't come out much yet)\n",
            "jamspell обработал за :  209.3808650970459 ms\n"
          ]
        }
      ]
    },
    {
      "cell_type": "markdown",
      "metadata": {
        "id": "3mgDRgErKnD6"
      },
      "source": [
        "# Training model"
      ]
    },
    {
      "cell_type": "markdown",
      "source": [
        "##Download text dataset and source code"
      ],
      "metadata": {
        "id": "dNtOR-q5GrFV"
      }
    },
    {
      "cell_type": "code",
      "execution_count": null,
      "metadata": {
        "id": "IiXqvvvYilSJ"
      },
      "outputs": [],
      "source": [
        "!git clone https://huggingface.co/datasets/Madjogger/JamSpell_dataset"
      ]
    },
    {
      "cell_type": "code",
      "execution_count": null,
      "metadata": {
        "colab": {
          "base_uri": "https://localhost:8080/"
        },
        "id": "MNlAr0chMoRo",
        "outputId": "864f5440-02fb-46f8-d149-7be97f1ea9b6"
      },
      "outputs": [
        {
          "output_type": "stream",
          "name": "stdout",
          "text": [
            "Cloning into 'JamSpell'...\n",
            "remote: Enumerating objects: 1200, done.\u001b[K\n",
            "remote: Counting objects: 100% (178/178), done.\u001b[K\n",
            "remote: Compressing objects: 100% (137/137), done.\u001b[K\n",
            "remote: Total 1200 (delta 82), reused 47 (delta 19), pack-reused 1022\u001b[K\n",
            "Receiving objects: 100% (1200/1200), 712.91 KiB | 13.71 MiB/s, done.\n",
            "Resolving deltas: 100% (723/723), done.\n"
          ]
        }
      ],
      "source": [
        "!git clone https://github.com/Madjogger1202/JamSpell.git"
      ]
    },
    {
      "cell_type": "markdown",
      "source": [
        "##Build jamspell"
      ],
      "metadata": {
        "id": "qwFXCNmdHADc"
      }
    },
    {
      "cell_type": "code",
      "source": [
        "!cd JamSpell\n",
        "!cmake /content/JamSpell/CMakeLists.txt\n",
        "!make"
      ],
      "metadata": {
        "colab": {
          "base_uri": "https://localhost:8080/"
        },
        "id": "cMY1EgO3HD_E",
        "outputId": "57808eb3-8d29-4873-ce7e-5d1f03ed7dbd"
      },
      "execution_count": null,
      "outputs": [
        {
          "output_type": "stream",
          "name": "stdout",
          "text": [
            "-- The C compiler identification is GNU 11.4.0\n",
            "-- The CXX compiler identification is GNU 11.4.0\n",
            "-- Detecting C compiler ABI info\n",
            "-- Detecting C compiler ABI info - done\n",
            "-- Check for working C compiler: /usr/bin/cc - skipped\n",
            "-- Detecting C compile features\n",
            "-- Detecting C compile features - done\n",
            "-- Detecting CXX compiler ABI info\n",
            "-- Detecting CXX compiler ABI info - done\n",
            "-- Check for working CXX compiler: /usr/bin/c++ - skipped\n",
            "-- Detecting CXX compile features\n",
            "-- Detecting CXX compile features - done\n",
            "-- Could NOT find GTest (missing: GTEST_LIBRARY GTEST_INCLUDE_DIR GTEST_MAIN_LIBRARY) \n",
            "-- Performing Test CMAKE_HAVE_LIBC_PTHREAD\n",
            "-- Performing Test CMAKE_HAVE_LIBC_PTHREAD - Success\n",
            "-- Found Threads: TRUE  \n",
            "-- Configuring done (1.1s)\n",
            "-- Generating done (0.0s)\n",
            "-- Build files have been written to: /content\n",
            "[  4%] \u001b[32mBuilding CXX object contrib/cityhash/CMakeFiles/cityhash.dir/city.cc.o\u001b[0m\n",
            "[  8%] \u001b[32m\u001b[1mLinking CXX static library libcityhash.a\u001b[0m\n",
            "[  8%] Built target cityhash\n",
            "[ 12%] \u001b[32mBuilding CXX object contrib/phf/CMakeFiles/phf.dir/phf.cc.o\u001b[0m\n",
            "[ 16%] \u001b[32m\u001b[1mLinking CXX static library libphf.a\u001b[0m\n",
            "[ 16%] Built target phf\n",
            "[ 20%] \u001b[32mBuilding CXX object jamspell/CMakeFiles/jamspell_lib.dir/spell_corrector.cpp.o\u001b[0m\n",
            "[ 25%] \u001b[32mBuilding CXX object jamspell/CMakeFiles/jamspell_lib.dir/lang_model.cpp.o\u001b[0m\n",
            "[ 29%] \u001b[32mBuilding CXX object jamspell/CMakeFiles/jamspell_lib.dir/utils.cpp.o\u001b[0m\n",
            "[ 33%] \u001b[32mBuilding CXX object jamspell/CMakeFiles/jamspell_lib.dir/perfect_hash.cpp.o\u001b[0m\n",
            "[ 37%] \u001b[32mBuilding CXX object jamspell/CMakeFiles/jamspell_lib.dir/bloom_filter.cpp.o\u001b[0m\n",
            "[ 41%] \u001b[32m\u001b[1mLinking CXX static library libjamspell_lib.a\u001b[0m\n",
            "[ 41%] Built target jamspell_lib\n",
            "[ 45%] \u001b[32mBuilding CXX object main/CMakeFiles/jamspell.dir/main.cpp.o\u001b[0m\n",
            "[ 50%] \u001b[32m\u001b[1mLinking CXX executable jamspell\u001b[0m\n",
            "[ 50%] Built target jamspell\n",
            "[ 54%] \u001b[32mBuilding CXX object contrib/handypack/CMakeFiles/handypack.dir/handypack.cpp.o\u001b[0m\n",
            "[ 58%] \u001b[32m\u001b[1mLinking CXX static library libhandypack.a\u001b[0m\n",
            "[ 58%] Built target handypack\n",
            "[ 62%] \u001b[32mBuilding CXX object contrib/bloom/CMakeFiles/bloom.dir/bloom_filter.cpp.o\u001b[0m\n",
            "[ 66%] \u001b[32m\u001b[1mLinking CXX static library libbloom.a\u001b[0m\n",
            "[ 66%] Built target bloom\n",
            "[ 70%] \u001b[32mBuilding CXX object contrib/tsl/CMakeFiles/tsl.dir/robin_map.cpp.o\u001b[0m\n",
            "[ 75%] \u001b[32m\u001b[1mLinking CXX static library libtsl.a\u001b[0m\n",
            "[ 75%] Built target tsl\n",
            "[ 79%] \u001b[32mBuilding CXX object contrib/httplib/CMakeFiles/httplib.dir/httplib.cpp.o\u001b[0m\n",
            "[ 83%] \u001b[32m\u001b[1mLinking CXX static library libhttplib.a\u001b[0m\n",
            "[ 83%] Built target httplib\n",
            "[ 87%] \u001b[32mBuilding CXX object contrib/nlohmann/CMakeFiles/nlohmann_json.dir/json.cpp.o\u001b[0m\n",
            "[ 91%] \u001b[32m\u001b[1mLinking CXX static library libnlohmann_json.a\u001b[0m\n",
            "[ 91%] Built target nlohmann_json\n",
            "[ 95%] \u001b[32mBuilding CXX object web_server/CMakeFiles/web_server.dir/main.cpp.o\u001b[0m\n",
            "[100%] \u001b[32m\u001b[1mLinking CXX executable web_server\u001b[0m\n",
            "[100%] Built target web_server\n"
          ]
        }
      ]
    },
    {
      "cell_type": "markdown",
      "source": [
        "##Train model - check folders for alphabet and dataset\n",
        "6 languages supported now, but you can create your own:\n",
        "\n",
        "1.Download or parse from somewhere data on your language (books, web sites, wikipedia). Useful resource: https://wortschatz.uni-leipzig.de/en/download (data for many languages), from here you can use files, named sentences\n",
        "\n",
        "2.Create txt with alphabet symbols and (optionally) extra symbol to deal with errors"
      ],
      "metadata": {
        "id": "Ftsd8wWFHFn1"
      }
    },
    {
      "cell_type": "code",
      "execution_count": null,
      "metadata": {
        "colab": {
          "base_uri": "https://localhost:8080/"
        },
        "id": "QI_joJGCOHRw",
        "outputId": "a4f53480-11c1-4c0e-b51e-a1d5b374aa02"
      },
      "outputs": [
        {
          "output_type": "stream",
          "name": "stdout",
          "text": [
            "[info] loading text\n",
            "[info] generating N-grams 3303778\n",
            "[info] processed 3.90992%\n",
            "[info] processed 8.01827%\n",
            "[info] processed 11.5307%\n",
            "[info] processed 15.9245%\n",
            "[info] processed 19.3134%\n",
            "[info] processed 23.0437%\n",
            "[info] processed 26.562%\n",
            "[info] processed 31.1124%\n",
            "[info] processed 34.938%\n",
            "[info] processed 39.1535%\n",
            "[info] processed 40.9671%\n",
            "[info] processed 44.9287%\n",
            "[info] processed 48.7293%\n",
            "[info] processed 52.8333%\n",
            "[info] processed 56.5897%\n",
            "[info] processed 59.2908%\n",
            "[info] processed 62.9202%\n",
            "[info] processed 66.3844%\n",
            "[info] processed 69.8103%\n",
            "[info] processed 73.0434%\n",
            "[info] processed 76.4221%\n",
            "[info] processed 79.9587%\n",
            "[info] processed 83.3144%\n",
            "[info] processed 86.1689%\n",
            "[info] processed 87.5265%\n",
            "[info] processed 90.8772%\n",
            "[info] processed 94.6782%\n",
            "[info] processed 97.9386%\n",
            "[info] processed 99.9155%\n",
            "[info] generating keys\n",
            "[info] ngrams1: 615465\n",
            "[info] ngrams2: 9788693\n",
            "[info] ngrams3: 27806369\n",
            "[info] total: 38210527\n",
            "[info] generating perf hash\n",
            "[info] finished, buckets: 47763197\n",
            "[info] buckets filled\n"
          ]
        }
      ],
      "source": [
        "!./main/jamspell train /content/JamSpell/alphabet/en_ascii.txt /content/JamSpell_dataset/eng.txt en_model.bin"
      ]
    },
    {
      "cell_type": "markdown",
      "source": [
        "##Load for first time\n",
        "It can take some time to generate bin.spell file, once it is generated, model will load very fast"
      ],
      "metadata": {
        "id": "NdtqeNIvJEbk"
      }
    },
    {
      "cell_type": "code",
      "execution_count": null,
      "metadata": {
        "id": "Dq8TsrNvWPx-",
        "colab": {
          "base_uri": "https://localhost:8080/"
        },
        "outputId": "89981a72-435f-4477-9c45-d685310437cb"
      },
      "outputs": [
        {
          "output_type": "stream",
          "name": "stdout",
          "text": [
            "Reading package lists... Done\n",
            "Building dependency tree... Done\n",
            "Reading state information... Done\n",
            "Suggested packages:\n",
            "  swig3.0-examples swig3.0-doc\n",
            "The following NEW packages will be installed:\n",
            "  swig3.0\n",
            "0 upgraded, 1 newly installed, 0 to remove and 18 not upgraded.\n",
            "Need to get 1,109 kB of archives.\n",
            "After this operation, 5,555 kB of additional disk space will be used.\n",
            "Get:1 http://archive.ubuntu.com/ubuntu jammy/universe amd64 swig3.0 amd64 3.0.12-2.2ubuntu1 [1,109 kB]\n",
            "Fetched 1,109 kB in 0s (8,131 kB/s)\n",
            "debconf: unable to initialize frontend: Dialog\n",
            "debconf: (No usable dialog-like program is installed, so the dialog based frontend cannot be used. at /usr/share/perl5/Debconf/FrontEnd/Dialog.pm line 78, <> line 1.)\n",
            "debconf: falling back to frontend: Readline\n",
            "debconf: unable to initialize frontend: Readline\n",
            "debconf: (This frontend requires a controlling tty.)\n",
            "debconf: falling back to frontend: Teletype\n",
            "dpkg-preconfigure: unable to re-open stdin: \n",
            "Selecting previously unselected package swig3.0.\n",
            "(Reading database ... 120875 files and directories currently installed.)\n",
            "Preparing to unpack .../swig3.0_3.0.12-2.2ubuntu1_amd64.deb ...\n",
            "Unpacking swig3.0 (3.0.12-2.2ubuntu1) ...\n",
            "Setting up swig3.0 (3.0.12-2.2ubuntu1) ...\n",
            "Processing triggers for man-db (2.10.2-1) ...\n"
          ]
        }
      ],
      "source": [
        "!sudo apt-get install swig3.0"
      ]
    },
    {
      "cell_type": "code",
      "execution_count": null,
      "metadata": {
        "colab": {
          "base_uri": "https://localhost:8080/"
        },
        "id": "NO7lSvX4V4CG",
        "outputId": "035bac65-8832-4ca8-beee-2c213065f075"
      },
      "outputs": [
        {
          "output_type": "stream",
          "name": "stdout",
          "text": [
            "Collecting jamspell\n",
            "  Downloading jamspell-0.0.12.tar.gz (174 kB)\n",
            "\u001b[?25l     \u001b[90m━━━━━━━━━━━━━━━━━━━━━━━━━━━━━━━━━━━━━━━━\u001b[0m \u001b[32m0.0/174.3 kB\u001b[0m \u001b[31m?\u001b[0m eta \u001b[36m-:--:--\u001b[0m\r\u001b[2K     \u001b[90m━━━━━━━━━━━━━━━━━━━━━━━━━━━━━━━━━━━━━━━\u001b[0m \u001b[32m174.3/174.3 kB\u001b[0m \u001b[31m5.9 MB/s\u001b[0m eta \u001b[36m0:00:00\u001b[0m\n",
            "\u001b[?25h  Preparing metadata (setup.py) ... \u001b[?25l\u001b[?25hdone\n",
            "Building wheels for collected packages: jamspell\n",
            "  Building wheel for jamspell (setup.py) ... \u001b[?25l\u001b[?25hdone\n",
            "  Created wheel for jamspell: filename=jamspell-0.0.12-cp310-cp310-linux_x86_64.whl size=1782250 sha256=c489e1e3438f6fe66683ea6ce95d30b1496906ffb46cf6e83a7db80386082c73\n",
            "  Stored in directory: /root/.cache/pip/wheels/95/af/d3/fb57122fda2851ad5972ce80640001c568dcffdf16bc9ddb17\n",
            "Successfully built jamspell\n",
            "Installing collected packages: jamspell\n",
            "Successfully installed jamspell-0.0.12\n"
          ]
        }
      ],
      "source": [
        "!sudo pip install jamspell"
      ]
    },
    {
      "cell_type": "code",
      "execution_count": null,
      "metadata": {
        "id": "Jjte6ndwV8n5"
      },
      "outputs": [],
      "source": [
        "import jamspell"
      ]
    },
    {
      "cell_type": "code",
      "execution_count": null,
      "metadata": {
        "colab": {
          "base_uri": "https://localhost:8080/"
        },
        "id": "bT_kkJKRYRDP",
        "outputId": "07e3d746-62c4-4f8e-c6f3-09fa393282ae"
      },
      "outputs": [
        {
          "output_type": "stream",
          "name": "stdout",
          "text": [
            "I'm so tired after a long day at work, I need to get some sleep.\n"
          ]
        }
      ],
      "source": [
        "jsp = jamspell.TSpellCorrector()\n",
        "jsp.LoadLangModel('en_model.bin')\n",
        "str_txt = jsp.FixFragment(\"I'm so tierd after ta lvng day at wonk, I newed to get som sleeep.\")\n",
        "\n",
        "print(str_txt)"
      ]
    },
    {
      "cell_type": "markdown",
      "metadata": {
        "id": "sOotPBwCBDxm"
      },
      "source": [
        "# Post processing and tests\n",
        "Correct upper-lower letters if it is nessesary"
      ]
    },
    {
      "cell_type": "code",
      "execution_count": 8,
      "metadata": {
        "id": "_L55rb4SVO0c",
        "colab": {
          "base_uri": "https://localhost:8080/"
        },
        "outputId": "52930b90-5854-4c55-edc1-43f3fb7ef123"
      },
      "outputs": [
        {
          "output_type": "stream",
          "name": "stdout",
          "text": [
            "Requirement already satisfied: autocorrect in /usr/local/lib/python3.10/dist-packages (2.6.1)\n",
            "Requirement already satisfied: pyspellchecker in /usr/local/lib/python3.10/dist-packages (0.7.2)\n"
          ]
        }
      ],
      "source": [
        "!sudo pip install  autocorrect\n",
        "!sudo pip install pyspellchecker"
      ]
    },
    {
      "cell_type": "code",
      "execution_count": null,
      "metadata": {
        "colab": {
          "base_uri": "https://localhost:8080/"
        },
        "id": "e4cOLADvAr-n",
        "outputId": "f1924673-b7a0-4719-8f2e-4213e9839c55"
      },
      "outputs": [
        {
          "output_type": "stream",
          "name": "stdout",
          "text": [
            "Y~u crn gen35ate ext^nsions for other langu#ges !\n",
            "I'm so tired a&ter a |on May at work: [need to get some s,eep.\n",
            "Y/u crn gen//ate ext/nsions for other langu/ges !\n",
            "I'm so tirel a/ter a /ong Tay at work/ /need to get some s/eep.\n",
            "YOu can genERate extEnsions for other languAges !\n",
            "I'm so tired aFter a Long Day at work Need to get some sLeep.\n",
            "You can generate extensions for other languages !\n",
            "I'm so tired after a Long Day at work Need to get some sleep.\n",
            "jamspell обработал за :  6.057262420654297 ms\n"
          ]
        }
      ],
      "source": [
        "import jamspell\n",
        "import time\n",
        "from autocorrect import Speller\n",
        "spell = Speller(lang='en')\n",
        "\n",
        "jsp = jamspell.TSpellCorrector()\n",
        "jsp.LoadLangModel('en_model.bin')\n",
        "\n",
        "good_symbols_en = \" abcdefghijklmnopqrstuvwxyz!,.0123456789?'ABCDEFGHIJKLMNOPQRSTUVWXYZ\"\n",
        "bad_mid_symbols_en = \"!,.0123456789?%:;+=-()/?[]\\|\"\n",
        "bad_start_symbols_en = \"!,.0123456789?%:;+=-()/?[]\\|\"\n",
        "bad_end_symbols_en = \"!,.0123456789?%:;+=-()/?[]\\|\"\n",
        "num_symbols = \"0123456789\"\n",
        "letters_symbols_en = \"abcdefghijklmnopqrstuvwxyzABCDEFGHIJKLMNOPQRSTUVWXYZ\"\n",
        "extra_symbols_en = \"'\"\n",
        "\n",
        "str1='Y~u crn gen35ate ext^nsions for other langu#ges !'\n",
        "str2=\"I'm so tirel a&ter a |ong Tay at work: [need to get some s,eep.\"\n",
        "str_txt1 = jsp.FixFragment(str1)\n",
        "str_txt2 = jsp.FixFragment(str2)\n",
        "print(str_txt1)\n",
        "print(str_txt2)\n",
        "start = time.time()\n",
        "list_str1=list(str1)\n",
        "list_str2=list(str2)\n",
        "\n",
        "for i in range(0, len(list_str1)-1):\n",
        "  if list_str1[i] not in good_symbols_en:\n",
        "    list_str1[i]='/'\n",
        "  if list_str1[i] in num_symbols:\n",
        "    if i>=1 and i<len(list_str1):\n",
        "      if (list_str1[i-1] in letters_symbols_en) or (list_str1[i+1] in letters_symbols_en):\n",
        "        list_str1[i]='/'\n",
        "  if list_str1[i] in bad_mid_symbols_en:\n",
        "    if i>=1 and i<len(list_str1):\n",
        "      if (list_str1[i-1] != ' ') or (list_str1[i+1] != ' '):\n",
        "        list_str1[i]='/'\n",
        "\n",
        "for i in range(0, len(list_str2)-1):\n",
        "  if list_str2[i] not in good_symbols_en:\n",
        "    list_str2[i]='/'\n",
        "  if list_str2[i] in num_symbols:\n",
        "    if i>=1 and i<len(list_str2):\n",
        "      if (list_str2[i-1] in letters_symbols_en) or (list_str2[i+1] in letters_symbols_en):\n",
        "        list_str2[i]='/'\n",
        "  if list_str2[i] in bad_mid_symbols_en:\n",
        "    if i>=1 and i<len(list_str2):\n",
        "      if not ((list_str2[i-1] == ' ') and (list_str2[i+1] == ' ')):\n",
        "        list_str2[i]='/'\n",
        "\n",
        "\n",
        "new_str1=''.join(list_str1)\n",
        "new_str2=''.join(list_str2)\n",
        "str_test3=new_str2\n",
        "\n",
        "print(new_str1)\n",
        "print(new_str2)\n",
        "\n",
        "str_txt1 = jsp.FixFragment(new_str1)\n",
        "str_txt2 = jsp.FixFragment(new_str2)\n",
        "print(str_txt1)\n",
        "print(str_txt2)\n",
        "\n",
        "new_txt1=''\n",
        "isNewW=True\n",
        "isFirstUpper=False\n",
        "for i in str_txt1:\n",
        "  if(isNewW):\n",
        "    isFirstUpper=i.isupper()\n",
        "    isNewW=False\n",
        "  elif (i.isupper() and (not isNewW) and (not isFirstUpper)):\n",
        "    i=i.lower()\n",
        "  if(i==' '):\n",
        "    isNewW=True\n",
        "  new_txt1+=i\n",
        "\n",
        "new_txt2=''\n",
        "isNewW=True\n",
        "isFirstUpper=False\n",
        "for i in str_txt2:\n",
        "  if(isNewW):\n",
        "    isFirstUpper=i.isupper()\n",
        "    isNewW=False\n",
        "  elif (i.isupper() and (not isNewW) and (not isFirstUpper)):\n",
        "    i=i.lower()\n",
        "  if(i==' '):\n",
        "    isNewW=True\n",
        "  new_txt2+=i\n",
        "\n",
        "str_txt1=new_txt1\n",
        "str_txt2=new_txt2\n",
        "\n",
        "print(spell(new_txt1))\n",
        "print(spell(new_txt2))\n",
        "\n",
        "end = time.time()\n",
        "print(\"jamspell обработал за : \",\n",
        "      (end-start) * 10**3, \"ms\")"
      ]
    },
    {
      "cell_type": "markdown",
      "metadata": {
        "id": "64NRTvrHKU5-"
      },
      "source": [
        "If you want to correct most wrong uppercases just try this:"
      ]
    },
    {
      "cell_type": "markdown",
      "metadata": {
        "id": "dp6eIOsHLc6b"
      },
      "source": [
        "Also test out how autocorrect works alone:"
      ]
    },
    {
      "cell_type": "code",
      "execution_count": null,
      "metadata": {
        "colab": {
          "base_uri": "https://localhost:8080/",
          "height": 35
        },
        "id": "JTNNhaHqLcD1",
        "outputId": "0714dbd1-3126-4370-c5b1-e8349d1ad834"
      },
      "outputs": [
        {
          "output_type": "execute_result",
          "data": {
            "text/plain": [
              "'Y~u can gen35ate ext^signs for other lang#ges !'"
            ],
            "application/vnd.google.colaboratory.intrinsic+json": {
              "type": "string"
            }
          },
          "metadata": {},
          "execution_count": 144
        }
      ],
      "source": [
        "spell('Y~u crn gen35ate ext^nsions for other langu#ges !')"
      ]
    },
    {
      "cell_type": "code",
      "execution_count": 11,
      "metadata": {
        "colab": {
          "base_uri": "https://localhost:8080/"
        },
        "id": "Bvn4OyzpPQzU",
        "outputId": "9ea4509e-cf31-406e-ec0d-55294f82923a"
      },
      "outputs": [
        {
          "output_type": "stream",
          "name": "stdout",
          "text": [
            "Who's abgut what, and i decided to realize a lone-stinding dream of a voice assistant. The'v)de/ shows a small deoonstratй/n of$what is ready nOw, but0this is jus| the beginning. In ab ideal(combination of forces anд$time, a(voice ass)stant will be�released that will }se thu latеst model ruOPT3.5% which the Beac recently put int/ open access. Yes, yes, in fqct - a mini AI with a voice that will be activated locadly on the computer. Speech gdneration is al2eady partially ready, but I e/n't like the delбy in cveqti.g a file, so I'm conjurin' to usE CUDA cores in the coee (it doesn't come out much yet)\n",
            "Who's\n",
            "about\n",
            "what\n",
            "and\n",
            "i\n",
            "decided\n",
            "to\n",
            "realize\n",
            "a\n",
            "None\n",
            "dream\n",
            "of\n",
            "a\n",
            "voice\n",
            "assistant\n",
            "None\n",
            "shows\n",
            "a\n",
            "small\n",
            "None\n",
            "ofwhat\n",
            "is\n",
            "ready\n",
            "now\n",
            "butitis\n",
            "is\n",
            "just\n",
            "the\n",
            "beginning\n",
            "In\n",
            "ab\n",
            "None\n",
            "of\n",
            "forces\n",
            "None\n",
            "voice\n",
            "assistant\n",
            "will\n",
            "None\n",
            "that\n",
            "will\n",
            "use\n",
            "thu\n",
            "latest\n",
            "model\n",
            "None\n",
            "which\n",
            "the\n",
            "beat\n",
            "recently\n",
            "put\n",
            "into\n",
            "open\n",
            "access\n",
            "yes\n",
            "yes\n",
            "in\n",
            "fact\n",
            "-\n",
            "a\n",
            "mini\n",
            "AI\n",
            "with\n",
            "a\n",
            "voice\n",
            "that\n",
            "will\n",
            "be\n",
            "activated\n",
            "locally\n",
            "on\n",
            "the\n",
            "computer\n",
            "Speech\n",
            "generation\n",
            "is\n",
            "already\n",
            "partially\n",
            "ready\n",
            "but\n",
            "I\n",
            "en't\n",
            "like\n",
            "the\n",
            "delay\n",
            "in\n",
            "None\n",
            "a\n",
            "file\n",
            "so\n",
            "I'm\n",
            "conjuring\n",
            "to\n",
            "usE\n",
            "cuba\n",
            "cores\n",
            "in\n",
            "the\n",
            "come\n",
            "it\n",
            "doesn't\n",
            "come\n",
            "out\n",
            "much\n",
            "yet\n",
            "pyspellchecker обработал за :  4900.573015213013 ms\n"
          ]
        }
      ],
      "source": [
        "import re\n",
        "from spellchecker import SpellChecker\n",
        "english = SpellChecker(language='en')\n",
        "\n",
        "words=re.findall(r\"[\\w']+|[.,!?;]\", \"str_test3\")\n",
        "new_txt2=\"Who's abgut what, and i decided to realize a lone-stinding dream of a voice assistant. The'v)de/ shows a small deoonstratй/n of$what is ready nOw, but0this is jus| the beginning. In ab ideal(combination of forces anд$time, a(voice ass)stant will be�released that will }se thu latеst model ruOPT3.5% which the Beac recently put int/ open access. Yes, yes, in fqct - a mini AI with a voice that will be activated locadly on the computer. Speech gdneration is al2eady partially ready, but I e/n't like the delбy in cveqti.g a file, so I'm conjurin' to usE CUDA cores in the coee (it doesn't come out much yet)\"\n",
        "print(new_txt2)\n",
        "words = new_txt2.split()\n",
        "start = time.time()\n",
        "#misspelled=['Y~u', 'crn', 'gen35ate', 'ext^nsions', 'for', 'other', 'langu#ges', '!']\n",
        "\n",
        "for word in words:\n",
        "    # Get the one `most likely` answer\n",
        "    print(english.correction(word))\n",
        "end = time.time()\n",
        "print(\"pyspellchecker обработал за : \",\n",
        "      (end-start) * 10**3, \"ms\")"
      ]
    },
    {
      "cell_type": "code",
      "execution_count": null,
      "metadata": {
        "colab": {
          "base_uri": "https://localhost:8080/",
          "height": 246
        },
        "id": "OdAHlwABQV6S",
        "outputId": "ba2fda70-d3c9-4e85-ccbd-0ee7fc14a716"
      },
      "outputs": [
        {
          "output_type": "error",
          "ename": "AssertionError",
          "evalue": "ignored",
          "traceback": [
            "\u001b[0;31m---------------------------------------------------------------------------\u001b[0m",
            "\u001b[0;31mAssertionError\u001b[0m                            Traceback (most recent call last)",
            "\u001b[0;32m<ipython-input-146-a4d452f1ce52>\u001b[0m in \u001b[0;36m<cell line: 3>\u001b[0;34m()\u001b[0m\n\u001b[1;32m      1\u001b[0m \u001b[0;32mimport\u001b[0m \u001b[0mjamspell\u001b[0m\u001b[0;34m\u001b[0m\u001b[0;34m\u001b[0m\u001b[0m\n\u001b[1;32m      2\u001b[0m \u001b[0mjsp\u001b[0m \u001b[0;34m=\u001b[0m \u001b[0mjamspell\u001b[0m\u001b[0;34m.\u001b[0m\u001b[0mTSpellCorrector\u001b[0m\u001b[0;34m(\u001b[0m\u001b[0;34m)\u001b[0m\u001b[0;34m\u001b[0m\u001b[0;34m\u001b[0m\u001b[0m\n\u001b[0;32m----> 3\u001b[0;31m \u001b[0;32massert\u001b[0m \u001b[0mjsp\u001b[0m\u001b[0;34m.\u001b[0m\u001b[0mLoadLangModel\u001b[0m\u001b[0;34m(\u001b[0m\u001b[0;34m'/content/big_model2_eng.bin'\u001b[0m\u001b[0;34m)\u001b[0m\u001b[0;34m\u001b[0m\u001b[0;34m\u001b[0m\u001b[0m\n\u001b[0m\u001b[1;32m      4\u001b[0m \u001b[0mstr_txt\u001b[0m \u001b[0;34m=\u001b[0m \u001b[0mjsp\u001b[0m\u001b[0;34m.\u001b[0m\u001b[0mFixFragment\u001b[0m\u001b[0;34m(\u001b[0m\u001b[0;34m'Y~u crn gen35ate ext^nsions for other langu#ges !'\u001b[0m\u001b[0;34m)\u001b[0m\u001b[0;34m\u001b[0m\u001b[0;34m\u001b[0m\u001b[0m\n\u001b[1;32m      5\u001b[0m \u001b[0;31m# u'I am the best spell checker!'\u001b[0m\u001b[0;34m\u001b[0m\u001b[0;34m\u001b[0m\u001b[0m\n",
            "\u001b[0;31mAssertionError\u001b[0m: "
          ]
        }
      ],
      "source": [
        "import jamspell\n",
        "jsp = jamspell.TSpellCorrector()\n",
        "assert jsp.LoadLangModel('/content/big_model2_eng.bin')\n",
        "str_txt = jsp.FixFragment('Y~u crn gen35ate ext^nsions for other langu#ges !')\n",
        "# u'I am the best spell checker!'\n",
        "start = time.time()\n",
        "new_txt=''\n",
        "isNewW=True\n",
        "isFirstUpper=False\n",
        "for i in str_txt:\n",
        "  if(isNewW):\n",
        "    isFirstUpper=i.isupper()\n",
        "    isNewW=False\n",
        "  elif (i.isupper() and (not isNewW) and (not isFirstUpper)):\n",
        "    i=i.lower()\n",
        "  if(i==' '):\n",
        "    isNewW=True\n",
        "  new_txt+=i\n",
        "print(new_txt)\n",
        "from autocorrect import Speller\n",
        "spell = Speller(lang='en')\n",
        "print(spell(new_txt))\n",
        "end = time.time()\n",
        "print(\"jamspell обработал за : \",\n",
        "      (end-start) * 10**3, \"ms\")"
      ]
    },
    {
      "cell_type": "code",
      "execution_count": null,
      "metadata": {
        "id": "NKfgTDfplfy5"
      },
      "outputs": [],
      "source": [
        "import sys\n",
        "#os.environ[\"PYTHONIOENCODING\"] = \"Win-1251\"\n",
        "\n",
        "str_alp=''\n",
        "for i in range(0, 255, 1):\n",
        "  str_alp+=(chr(i))\n",
        "print(ascii(str_alp))"
      ]
    },
    {
      "cell_type": "code",
      "execution_count": null,
      "metadata": {
        "id": "jGj6GG4EnFAK"
      },
      "outputs": [],
      "source": []
    },
    {
      "cell_type": "markdown",
      "source": [
        "#Generate noise\n"
      ],
      "metadata": {
        "id": "52em9DriPxTF"
      }
    },
    {
      "cell_type": "code",
      "source": [
        "! pip install bitarray"
      ],
      "metadata": {
        "colab": {
          "base_uri": "https://localhost:8080/"
        },
        "id": "JDltOy06mNUh",
        "outputId": "1dbd7bc1-c9db-41b4-9890-49a2b3d0d200"
      },
      "execution_count": null,
      "outputs": [
        {
          "output_type": "stream",
          "name": "stdout",
          "text": [
            "Collecting bitarray\n",
            "  Downloading bitarray-2.8.2-cp310-cp310-manylinux_2_17_x86_64.manylinux2014_x86_64.whl (286 kB)\n",
            "\u001b[?25l     \u001b[90m━━━━━━━━━━━━━━━━━━━━━━━━━━━━━━━━━━━━━━━━\u001b[0m \u001b[32m0.0/286.5 kB\u001b[0m \u001b[31m?\u001b[0m eta \u001b[36m-:--:--\u001b[0m\r\u001b[2K     \u001b[91m━━━━━━━━━━━━━━━━━━━━━━━━━━━━━━━━━━━━━\u001b[0m\u001b[91m╸\u001b[0m\u001b[90m━\u001b[0m \u001b[32m276.5/286.5 kB\u001b[0m \u001b[31m9.0 MB/s\u001b[0m eta \u001b[36m0:00:01\u001b[0m\r\u001b[2K     \u001b[90m━━━━━━━━━━━━━━━━━━━━━━━━━━━━━━━━━━━━━━━\u001b[0m \u001b[32m286.5/286.5 kB\u001b[0m \u001b[31m7.1 MB/s\u001b[0m eta \u001b[36m0:00:00\u001b[0m\n",
            "\u001b[?25hInstalling collected packages: bitarray\n",
            "Successfully installed bitarray-2.8.2\n"
          ]
        }
      ]
    },
    {
      "cell_type": "code",
      "source": [
        "import os\n",
        "import random\n",
        "import binascii\n",
        "from bitarray import bitarray\n",
        "\n",
        "err_percent = 12\n",
        "start_txt = \"I'm so tired after a long day at work. \\nI need to get some sleep.\"\n",
        "space_count=start_txt.count(' ')\n",
        "print(space_count)\n",
        "out_txt=''\n",
        "out_txt+=chr(space_count)\n",
        "out_txt+=chr(space_count)\n",
        "out_txt+=chr(space_count)\n",
        "curr_pos=0\n",
        "for i in start_txt:\n",
        "  if(i==' '):\n",
        "    print(curr_pos)\n",
        "    out_txt+=chr(curr_pos)\n",
        "    out_txt+=chr(curr_pos)\n",
        "    out_txt+=chr(curr_pos)\n",
        "  curr_pos+=1\n",
        "print(out_txt)\n",
        "if os.path.exists('/content/spaces.txt') != 0:\n",
        "  os.remove(\"/content/spaces.txt\")\n",
        "f = open('/content/spaces.txt','w')\n",
        "f.write(out_txt)\n",
        "f.close()\n",
        "\n",
        "def set_bit(v, index, x):\n",
        "  \"\"\"Set the index:th bit of v to 1 if x is truthy, else to 0, and return the new value.\"\"\"\n",
        "  mask = 1 << index   # Compute mask, an integer with just bit 'index' set.\n",
        "  v &= ~mask          # Clear the bit indicated by the mask (if x is False)\n",
        "  if x:\n",
        "    v |= mask         # If x was True, set the bit indicated by the mask.\n",
        "  return v            # Return the result, we're done.\n",
        "def to_bin_s(a):\n",
        "    c =' '.join(['0'*(8-len(bin(ord(i))[2:]))+(bin(ord(i))[2:]) for i in a])\n",
        "    return c\n",
        "\n",
        "def bits(ch_in, pos):\n",
        "  in_byte=to_bin_s(ch_in)\n",
        "  print(in_byte)\n",
        "  return (in_byte[pos]=='1')\n",
        "\n",
        "recieved_str=''\n",
        "for i in start_txt:\n",
        "  print(bin(ord(i))[2:].zfill(8))\n",
        "  bts = bitarray(bin(ord(i))[2:].zfill(8))\n",
        "  print(bts.tobytes().decode('ascii'))\n",
        "print('Out:')\n",
        "for i in start_txt:\n",
        "  out_char=(bin(ord(i))[2:].zfill(8))\n",
        "  str_bin_ch=''\n",
        "  for j in range(0, 8):\n",
        "    bad_symbol=(random.randint(0, 1000)<=err_percent)\n",
        "    if(bad_symbol):\n",
        "      str_bin_ch+='1'\n",
        "      print('bad!')\n",
        "    else:\n",
        "      str_bin_ch+=out_char[j]\n",
        "      #set_bit(out_char, j, 0)\n",
        "  bts = bitarray(str_bin_ch)\n",
        "  recieved_str+=bts.tobytes().decode('ascii')\n",
        "  print(str_bin_ch)\n",
        "  print(recieved_str)\n",
        "\n",
        "print(recieved_str)\n",
        "if os.path.exists('/content/recieved_str.txt') != 0:\n",
        "  os.remove(\"/content/recieved_str.txt\")\n",
        "f = open('/content/recieved_str','w')\n",
        "f.write(recieved_str)\n",
        "f.close()"
      ],
      "metadata": {
        "id": "o7fe8nbCP1CH"
      },
      "execution_count": null,
      "outputs": []
    },
    {
      "cell_type": "markdown",
      "source": [
        "#Fix noise"
      ],
      "metadata": {
        "id": "E3TuS_DAqUL5"
      }
    },
    {
      "cell_type": "code",
      "source": [
        "import jamspell\n",
        "import time\n",
        "from autocorrect import Speller\n",
        "from collections import Counter\n",
        "from array import array\n",
        "\n",
        "spell = Speller(lang='en')\n",
        "jsp = jamspell.TSpellCorrector()\n",
        "jsp.LoadLangModel('en_model.bin')\n",
        "\n",
        "good_symbols_en = \" \\abcdefghijklmnopqrstuvwxyz!,.0123456789?'ABCDEFGHIJKLMNOPQRSTUVWXYZ\"\n",
        "bad_mid_symbols_en = \"!,.0123456789?%:;+=-()/?[]|\"\n",
        "bad_start_symbols_en = \"!,.0123456789?%:;+=-()/?[]|\"\n",
        "bad_end_symbols_en = \"!,.0123456789?%:;+=-()/?[]|\"\n",
        "num_symbols = \"0123456789\"\n",
        "letters_symbols_en = \"abcdefghijklmnopqrstuvwxyzABCDEFGHIJKLMNOPQRSTUVWXYZ\"\n",
        "extra_symbols_en = \"'\"\n",
        "\n",
        "f = open('/content/recieved_str','r')\n",
        "input_str = f.read()\n",
        "print(input_str)\n",
        "input_str=input_str.replace(\" \", \".\")\n",
        "\n",
        "f.close()\n",
        "\n",
        "f = open('/content/spaces.txt','r')\n",
        "input_spaces = f.read()\n",
        "f.close()\n",
        "\n",
        "print(jsp.FixFragment(input_str))\n",
        "\n",
        "#fix spaces:\n",
        "def most_comm(ch1, ch2, ch3):\n",
        "  str1=ch1+ch2+ch3\n",
        "  count = sorted([(str1.count(letter), letter) for letter in set(str1)], reverse=True)\n",
        "  return count[0][1]\n",
        "\n",
        "list_str1=list(input_str)\n",
        "num_spaces = ord(most_comm(input_spaces[0], input_spaces[1], input_spaces[2]))\n",
        "print(num_spaces)\n",
        "for i in range(1, num_spaces+1):\n",
        "  list_str1[ord(most_comm(input_spaces[i*3], input_spaces[i*3+1], input_spaces[i*3+2]))]=' '\n",
        "\n",
        "start = time.time()\n",
        "\n",
        "\n",
        "for i in range(0, len(list_str1)-1):\n",
        "  if list_str1[i] not in good_symbols_en:\n",
        "    list_str1[i]='/'\n",
        "  if list_str1[i] in num_symbols:\n",
        "    if i>=1 and i<len(list_str1):\n",
        "      if (list_str1[i-1] in letters_symbols_en) or (list_str1[i+1] in letters_symbols_en):\n",
        "        list_str1[i]='/'\n",
        "  if list_str1[i] in bad_mid_symbols_en:\n",
        "    if i>=1 and i<len(list_str1):\n",
        "      if (list_str1[i-1] != ' ') or (list_str1[i+1] != ' '):\n",
        "        list_str1[i]='/'\n",
        "\n",
        "new_str1=''.join(list_str1)\n",
        "\n",
        "print(new_str1)\n",
        "\n",
        "\n",
        "str_txt1 = jsp.FixFragment(new_str1)\n",
        "print(str_txt1)\n",
        "\n",
        "new_txt1=''\n",
        "isNewW=True\n",
        "isFirstUpper=False\n",
        "for i in str_txt1:\n",
        "  if(isNewW):\n",
        "    isFirstUpper=i.isupper()\n",
        "    isNewW=False\n",
        "  elif (i.isupper() and (not isNewW) and (not isFirstUpper)):\n",
        "    i=i.lower()\n",
        "  if(i==' '):\n",
        "    isNewW=True\n",
        "  new_txt1+=i\n",
        "\n",
        "str_txt1=new_txt1\n",
        "str_final = spell(new_txt1)\n",
        "print(str_final)\n",
        "\n",
        "end = time.time()\n",
        "print(\"jamspell обработал за : \",\n",
        "      (end-start) * 10**3, \"ms\")\n",
        "my_file = open(\"/content/output_text.txt\", \"w+\")\n",
        "my_file.write(str_final)\n",
        "my_file.close()"
      ],
      "metadata": {
        "colab": {
          "base_uri": "https://localhost:8080/"
        },
        "id": "wUUnGSG6qTtQ",
        "outputId": "b1386e81-d02c-4c4b-9bf9-e0b30144f98e"
      },
      "execution_count": null,
      "outputs": [
        {
          "output_type": "stream",
          "name": "stdout",
          "text": [
            "I'm so tired(after a long day!at wro. \n",
            "I need\"to get some wleep.\n",
            "I'm.so.tired(after.a.long.day!at.wro..\n",
            "I.need\"to.get.some.sleep.\n",
            "14\n",
            "I'm so tired /fter / long d/y /t w/ro/ /I need to get some wleep.\n",
            "I'm so tired After A long dAy At wRotE I need to get some sleep.\n",
            "I'm so tired After A long day At wrote I need to get some sleep.\n",
            "jamspell обработал за :  18.291711807250977 ms\n"
          ]
        }
      ]
    }
  ],
  "metadata": {
    "colab": {
      "provenance": [],
      "mount_file_id": "1X-OCG1cDaLJ0MMNZHyiJ1Gk4mGcnpTTY",
      "authorship_tag": "ABX9TyP5/DR/jnOPLzEbl8E42k4U",
      "include_colab_link": true
    },
    "kernelspec": {
      "display_name": "Python 3",
      "name": "python3"
    },
    "language_info": {
      "name": "python"
    }
  },
  "nbformat": 4,
  "nbformat_minor": 0
}